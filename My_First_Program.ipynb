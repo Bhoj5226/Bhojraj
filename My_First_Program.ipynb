{
  "metadata": {
    "kernelspec": {
      "name": "python",
      "display_name": "Python (Pyodide)",
      "language": "python"
    },
    "language_info": {
      "codemirror_mode": {
        "name": "python",
        "version": 3
      },
      "file_extension": ".py",
      "mimetype": "text/x-python",
      "name": "python",
      "nbconvert_exporter": "python",
      "pygments_lexer": "ipython3",
      "version": "3.8"
    }
  },
  "nbformat_minor": 5,
  "nbformat": 4,
  "cells": [
    {
      "id": "aa008de2-f28b-420f-a0c6-77a1009febd0",
      "cell_type": "markdown",
      "source": "# My_First_Program",
      "metadata": {}
    },
    {
      "id": "75bdbbeb-df05-400c-919a-96fc95ffb871",
      "cell_type": "markdown",
      "source": "# Introduction",
      "metadata": {}
    },
    {
      "id": "3c258581-b67e-4433-9330-7757be825de3",
      "cell_type": "markdown",
      "source": "## Data Science Languages\n\nThe following are some of the most popular programming languages used in Data Science:\n\n- Python 🐍\n- R 📊\n- SQL 🗄️\n- Julia 🚀\n- Scala 🔥\n- Java ☕\n- C/C++ 💻\n- MATLAB 📈\n",
      "metadata": {}
    },
    {
      "id": "59e23434-9b8b-4ab0-9964-597752896cc8",
      "cell_type": "markdown",
      "source": "## Data Science Libraries\n\nHere are some of the most commonly used libraries in Data Science:\n\n### **📊 Data Manipulation & Analysis**\n- **Pandas** – Data analysis and manipulation\n- **NumPy** – Numerical computing\n- **Dask** – Scalable data manipulation\n\n### **📈 Data Visualization**\n- **Matplotlib** – 2D plotting\n- **Seaborn** – Statistical data visualization\n- **Plotly** – Interactive visualizations\n\n\n",
      "metadata": {}
    },
    {
      "id": "10671608-789e-479d-8f20-635ff85970ff",
      "cell_type": "markdown",
      "source": "## Data Science Tools\n\nBelow is a table listing some popular **Data Science Tools**:\n\n| Tool            | Category               | Description |\n|----------------|------------------------|-------------|\n| Jupyter Notebook | Interactive Computing | Web-based environment for running Python, R, and Julia code |\n| Apache Spark   | Big Data Processing    | Distributed computing framework for large-scale data |\n| TensorFlow     | Machine Learning & AI  | Open-source deep learning framework by Google |\n\n\n\n\n",
      "metadata": {}
    },
    {
      "id": "f2a24f69-4e4f-41da-87b5-83d315357db4",
      "cell_type": "markdown",
      "source": "## Arithmetic Expression Examples\n\nArithmetic expressions are mathematical expressions that involve **operators** such as addition (`+`), subtraction (`-`), multiplication (`*`), and division (`/`). Below are some examples:\n\n### **Basic Operations:**\n- **Addition:** `5 + 3 = 8`\n- **Subtraction:** `10 - 4 = 6`\n- **Multiplication:** `6 * 7 = 42`\n- **Division:** `20 / 5 = 4`",
      "metadata": {}
    },
    {
      "id": "202bad5d-a5b1-429b-b9ec-55f96589c8a9",
      "cell_type": "code",
      "source": "a=5\nb=1\nc=a+b\nd=a-b\nprint(\"added value is\" ,c)\nprint(\"subtracted value is\" ,d)",
      "metadata": {
        "trusted": true
      },
      "outputs": [
        {
          "name": "stdout",
          "output_type": "stream",
          "text": "added value is 6\nsubtracted value is 4\n"
        }
      ],
      "execution_count": 6
    },
    {
      "id": "184b99da-9a6d-4987-9512-ee4dfcf0a1f5",
      "cell_type": "code",
      "source": "min= 60 \nhr=min/60\nprint(\" 60 min equals to\" ,hr,\"hr\")\n",
      "metadata": {
        "trusted": true
      },
      "outputs": [
        {
          "name": "stdout",
          "output_type": "stream",
          "text": " 60 min equals to 1.0 hr\n"
        }
      ],
      "execution_count": 7
    },
    {
      "id": "d768f538-7da1-49ae-8b24-ecf3f29ef289",
      "cell_type": "markdown",
      "source": "# Objectives\nto become efficient Data Scientist\n",
      "metadata": {}
    },
    {
      "id": "a52ca863-87f2-415b-a358-e1c6394ca842",
      "cell_type": "markdown",
      "source": "# Author Name \nBhojraj",
      "metadata": {}
    },
    {
      "id": "11e2c525-5a13-4747-81ce-21875f3e33db",
      "cell_type": "code",
      "source": "",
      "metadata": {
        "trusted": true
      },
      "outputs": [],
      "execution_count": null
    }
  ]
}